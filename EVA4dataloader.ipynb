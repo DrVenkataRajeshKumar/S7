{
  "nbformat": 4,
  "nbformat_minor": 0,
  "metadata": {
    "colab": {
      "name": "Untitled4.ipynb",
      "provenance": [],
      "authorship_tag": "ABX9TyPpXB0HGPaqSjjwNGKoIeF2",
      "include_colab_link": true
    },
    "kernelspec": {
      "name": "python3",
      "display_name": "Python 3"
    }
  },
  "cells": [
    {
      "cell_type": "markdown",
      "metadata": {
        "id": "view-in-github",
        "colab_type": "text"
      },
      "source": [
        "<a href=\"https://colab.research.google.com/github/DrVenkataRajeshKumar/S7/blob/master/EVA4dataloader.ipynb\" target=\"_parent\"><img src=\"https://colab.research.google.com/assets/colab-badge.svg\" alt=\"Open In Colab\"/></a>"
      ]
    },
    {
      "cell_type": "code",
      "metadata": {
        "id": "K_UUmpB0UW5h",
        "colab_type": "code",
        "colab": {}
      },
      "source": [
        "import torch\n",
        "\n",
        "class DataLoader:\n",
        "  \"\"\"\n",
        "  Helper class to load test and train data\n",
        "  \"\"\"\n",
        "  def __init__(self, shuffle=True, batch_size=128, seed=1):\n",
        "    cuda = torch.cuda.is_available()\n",
        "    \n",
        "    if cuda:\n",
        "      torch.cuda.manual_seed(seed)\n",
        "\n",
        "    # dataloader arguments - something you'll fetch these from cmdprmt\n",
        "    self.dataloader_args = dict(shuffle=shuffle, batch_size=batch_size, num_workers=4, pin_memory=True) if cuda else dict(shuffle=shuffle, batch_size=batch_size)\n",
        "\n",
        "  def load(self, data):\n",
        "    return torch.utils.data.DataLoader(data, **self.dataloader_args)"
      ],
      "execution_count": 0,
      "outputs": []
    }
  ]
}